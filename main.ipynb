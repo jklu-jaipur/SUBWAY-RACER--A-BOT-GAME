{
 "cells": [
  {
   "cell_type": "code",
   "execution_count": 1,
   "metadata": {},
   "outputs": [
    {
     "name": "stdout",
     "output_type": "stream",
     "text": [
      "pygame 2.0.0 (SDL 2.0.12, python 3.8.3)\n",
      "Hello from the pygame community. https://www.pygame.org/contribute.html\n",
      "WARNING:tensorflow:From C:\\Users\\DELL\\_ARTIFICIAL INTELLIGENCE_\\racing-game-ai-master(working)\\helpers\\utils.py:202: Sequential.predict_classes (from tensorflow.python.keras.engine.sequential) is deprecated and will be removed after 2021-01-01.\n",
      "Instructions for updating:\n",
      "Please use instead:* `np.argmax(model.predict(x), axis=-1)`,   if your model does multi-class classification   (e.g. if it uses a `softmax` last-layer activation).* `(model.predict(x) > 0.5).astype(\"int32\")`,   if your model does binary classification   (e.g. if it uses a `sigmoid` last-layer activation).\n"
     ]
    },
    {
     "ename": "SystemExit",
     "evalue": "",
     "output_type": "error",
     "traceback": [
      "An exception has occurred, use %tb to see the full traceback.\n",
      "\u001b[1;31mSystemExit\u001b[0m\n"
     ]
    },
    {
     "name": "stderr",
     "output_type": "stream",
     "text": [
      "C:\\Users\\DELL\\anaconda3\\lib\\site-packages\\IPython\\core\\interactiveshell.py:3351: UserWarning: To exit: use 'exit', 'quit', or Ctrl-D.\n",
      "  warn(\"To exit: use 'exit', 'quit', or Ctrl-D.\", stacklevel=1)\n"
     ]
    }
   ],
   "source": [
    "import pygame\n",
    "from keras.models import load_model\n",
    "from helpers.utils import *\n",
    "from helpers.core import *\n",
    "import constants.constants as vals\n",
    "from data.data import *\n",
    "\n",
    "model = load_model('./models/categorical_crossentropy.h5')\n",
    "\n",
    "pygame.init()\n",
    "pygame.display.set_caption('Racing Car AI')\n",
    "\n",
    "SCREEN = initialize_screen()\n",
    "\n",
    "# Clock is set to keep track of frames\n",
    "clock = pygame.time.Clock()\n",
    "\n",
    "cars = []\n",
    "data = []\n",
    "\n",
    "my_car = My_car(vals.MY_CAR_X, vals.MY_CAR_Y)\n",
    "\n",
    "# Set ai_mode false if you want to play in autopilot mode to collect data\n",
    "ai = True\n",
    "# Set True if you want to collect state at every frame for data analytics\n",
    "collect_data = False\n",
    "# Decide on amount of rows after which data should be saved\n",
    "rows = vals.DATA_ROWS\n",
    "# Controls allow player to move car around regardless of the autopilot or ai decisions\n",
    "player_control = False\n",
    "\n",
    "counter = 0\n",
    "while 1:\n",
    "    # limit runtime speed to 30 frames/second\n",
    "    clock.tick(vals.FRAME_RATE)\n",
    "    pygame.event.pump()\n",
    "    for event in pygame.event.get():\n",
    "        # Look for any button press action\n",
    "        if event.type == pygame.KEYDOWN:\n",
    "            # Press Left key to move my_car to left\n",
    "            if event.key == pygame.K_LEFT:\n",
    "                if player_control == True:\n",
    "                    my_car.move(\"left\")\n",
    "            # Press Right key to move my_car to right\n",
    "            elif event.key == pygame.K_RIGHT:\n",
    "                if player_control == True:\n",
    "                    my_car.move(\"right\")\n",
    "            # Press Escape key to quit game\n",
    "            elif event.key == pygame.K_ESCAPE:\n",
    "                pygame.quit()\n",
    "                raise SystemExit\n",
    "\n",
    "        # Quit the game if the X symbol is clicked\n",
    "        if event.type == pygame.QUIT:\n",
    "            pygame.quit()\n",
    "            raise SystemExit\n",
    "\n",
    "        # Build up a black screen as a game background\n",
    "    SCREEN.fill(vals.BLACK)\n",
    "    # Draw two road separater lines\n",
    "    draw_vertical_lines(SCREEN)\n",
    "    # Remove cars that are out of map boundaries\n",
    "    deactivate_cars(cars)\n",
    "    # filter out not active cars\n",
    "    cars = list(filter(lambda x: (x.active != False), cars))\n",
    "    # check_if_lost(cars, my_car)\n",
    "    # Increase a frame counter\n",
    "    counter += 1\n",
    "    # Perform this action every frame\n",
    "    if counter % vals.ACTION_PERFORM_RATE == 0:\n",
    "        if ai == True:\n",
    "            # Test your ai model's performance\n",
    "            ai_model(model, cars, my_car)\n",
    "        else:\n",
    "            # Collect data by playing autopilot mode\n",
    "            autopilot(data, cars, my_car)\n",
    "\n",
    "    # Perform this action every 2 frames\n",
    "    if counter % (vals.ACTION_PERFORM_RATE*2) == 0:\n",
    "        add_new_car(cars)\n",
    "\n",
    "    # Draw cars\n",
    "    draw_cars(SCREEN, cars)\n",
    "    # Draw player car\n",
    "    draw_my_car(SCREEN, my_car)\n",
    "\n",
    "    if collect_data == True:\n",
    "        if counter == rows:\n",
    "            save_data(data)\n",
    "        elif counter <= rows:\n",
    "            print(\"Counter - \", counter, \" / \", rows)\n",
    "\n",
    "    # update display\n",
    "    pygame.display.flip()\n"
   ]
  },
  {
   "cell_type": "code",
   "execution_count": null,
   "metadata": {},
   "outputs": [],
   "source": []
  }
 ],
 "metadata": {
  "kernelspec": {
   "display_name": "Python 3",
   "language": "python",
   "name": "python3"
  },
  "language_info": {
   "codemirror_mode": {
    "name": "ipython",
    "version": 3
   },
   "file_extension": ".py",
   "mimetype": "text/x-python",
   "name": "python",
   "nbconvert_exporter": "python",
   "pygments_lexer": "ipython3",
   "version": "3.8.3"
  }
 },
 "nbformat": 4,
 "nbformat_minor": 4
}
